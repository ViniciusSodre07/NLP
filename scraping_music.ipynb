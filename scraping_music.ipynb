{
  "nbformat": 4,
  "nbformat_minor": 0,
  "metadata": {
    "colab": {
      "provenance": [],
      "include_colab_link": true
    },
    "kernelspec": {
      "name": "python3",
      "display_name": "Python 3"
    },
    "language_info": {
      "name": "python"
    }
  },
  "cells": [
    {
      "cell_type": "markdown",
      "metadata": {
        "id": "view-in-github",
        "colab_type": "text"
      },
      "source": [
        "<a href=\"https://colab.research.google.com/github/ViniciusSodre07/NLP/blob/main/scraping_music.ipynb\" target=\"_parent\"><img src=\"https://colab.research.google.com/assets/colab-badge.svg\" alt=\"Open In Colab\"/></a>"
      ]
    },
    {
      "cell_type": "markdown",
      "source": [
        "# **1.IMPORTANDO AS BIBLIOTECAS**\n",
        "\n",
        "---"
      ],
      "metadata": {
        "id": "6KK4n8Lt_rja"
      }
    },
    {
      "cell_type": "code",
      "source": [
        "#IMPORTANDO AS BIBLIOTECAS\n",
        "import requests\n",
        "from bs4 import BeautifulSoup\n",
        "import pandas as pd"
      ],
      "metadata": {
        "id": "VHjtzx3jG-DU"
      },
      "execution_count": null,
      "outputs": []
    },
    {
      "cell_type": "code",
      "source": [],
      "metadata": {
        "id": "XGpPPJoYNh46"
      },
      "execution_count": null,
      "outputs": []
    },
    {
      "cell_type": "markdown",
      "source": [
        "# **2.DATASET MÚSICAS**\n",
        "\n",
        "---"
      ],
      "metadata": {
        "id": "Rddpt0VWHG2C"
      }
    },
    {
      "cell_type": "code",
      "execution_count": null,
      "metadata": {
        "id": "J6hvuMPFzNwX"
      },
      "outputs": [],
      "source": [
        "#Importando do site valume as músicas do artista Tim Maia\n",
        "\n",
        "page = requests.get(\"https://www.vagalume.com.br/tim-maia/\")\n",
        "soup = BeautifulSoup(page.content, 'html.parser')\n",
        "lista_alfabetica = BeautifulSoup(str(soup.findChildren(id = \"alfabetMusicList\")), 'html.parser')\n",
        "a_tag = lista_alfabetica.findAll('a')\n",
        "\n",
        "musicas = []\n",
        "for a in a_tag:\n",
        "    nome_musica = a.text\n",
        "    if not(nome_musica == 'TRADUÇÃO' or nome_musica == ''):\n",
        "        link_musica = a['href']\n",
        "        musicas.append([nome_musica, link_musica])\n",
        "\n",
        "for i in range(len(musicas)):\n",
        "    link = \"https://www.vagalume.com.br\" + str(musicas[i][1])\n",
        "    page = requests.get(link)\n",
        "    soup = BeautifulSoup(page.content, 'html.parser')\n",
        "    h3_tag = soup.findAll('h3')\n",
        "    if len(h3_tag) != 0:\n",
        "        album = h3_tag[0].text\n",
        "    else:\n",
        "        album = ''\n",
        "    lyrics = soup.findChildren(id = 'lyrics')\n",
        "    lyrics = str(lyrics[0])\n",
        "    lyrics = lyrics.replace('<div id=\"lyrics\">', '')\n",
        "    lyrics = lyrics.replace('<div data-plugin=\"googleTranslate\" id=\"lyrics\">', '')\n",
        "    lyrics = lyrics.replace('<br/>', ' ')\n",
        "    lyrics = lyrics.replace(\"\\'\",\"'\")\n",
        "    lyrics = lyrics.replace('</div>', '')\n",
        "    musicas[i].append(album)\n",
        "    musicas[i].append(lyrics)\n",
        "\n",
        "musicas = pd.DataFrame(musicas, columns=['Nome da Música', 'link', 'album', 'letra'])\n",
        "musicas.to_csv('musicas.csv', index=False)"
      ]
    },
    {
      "cell_type": "code",
      "source": [
        "# Ler o arquivo CSV 'musicas.csv'\n",
        "musicas = pd.read_csv('musicas.csv')\n",
        "\n",
        "# Exibir as primeiras 20 linhas do DataFrame #https://www.vagalume.com.br/tim-maia/amores.html\n",
        "musicas.head(20)\n"
      ],
      "metadata": {
        "id": "FR19TZKa1Sin"
      },
      "execution_count": null,
      "outputs": []
    },
    {
      "cell_type": "code",
      "source": [
        "# Obter e Concatenar o número de linhas com a string corretamente\n",
        "print('Número de linhas: ' + str(musicas.shape[0]))"
      ],
      "metadata": {
        "colab": {
          "base_uri": "https://localhost:8080/"
        },
        "id": "ENY-9popCPVT",
        "outputId": "69502b13-9957-4b2c-eba8-90ea6a9c7a76"
      },
      "execution_count": null,
      "outputs": [
        {
          "output_type": "stream",
          "name": "stdout",
          "text": [
            "Número de linhas: 266\n"
          ]
        }
      ]
    },
    {
      "cell_type": "markdown",
      "source": [
        "# **3.TRATANDO A BASE DE DADOS**\n",
        "\n",
        "---\n",
        "\n"
      ],
      "metadata": {
        "id": "E-MZEJhrDAHm"
      }
    },
    {
      "cell_type": "code",
      "source": [
        "# Definir o padrão de código para músicas instrumentais (convertido para minúsculas)\n",
        "instrumental_code = 'instrumental<img alt=\"instrumental\" class=\"instrumental-icon\" src=\"/img/etc/instrumental.png\"/>'\n",
        "\n",
        "\n",
        "# Filtrar e remover as linhas onde a coluna \"letra\" contenha o código de instrumental, ignorando maiúsculas e minúsculas\n",
        "musicas_filtradas = musicas[~musicas['letra'].str.lower().str.contains(instrumental_code)]\n",
        "\n",
        "\n",
        "# Salvar o DataFrame limpo em um novo arquivo CSV\n",
        "musicas_filtradas.to_csv('musicas_filtradas.csv', index=False)\n"
      ],
      "metadata": {
        "id": "BPtZ48gH9Oxc"
      },
      "execution_count": null,
      "outputs": []
    },
    {
      "cell_type": "code",
      "source": [
        "musicas_filtradas.head(20)"
      ],
      "metadata": {
        "id": "ZCYbR5xV14VH"
      },
      "execution_count": null,
      "outputs": []
    },
    {
      "cell_type": "code",
      "source": [
        "# Obter e Concatenar o número de linhas com a string corretamente\n",
        "print('Número de linhas: ' + str(musicas_filtradas.shape[0]))"
      ],
      "metadata": {
        "id": "3RAzDCYc-BHq"
      },
      "execution_count": null,
      "outputs": []
    },
    {
      "cell_type": "markdown",
      "source": [],
      "metadata": {
        "id": "39WFSWGbAB82"
      }
    },
    {
      "cell_type": "markdown",
      "source": [
        "# **4.FREQUENCIA DE PALAVRAS**\n",
        "\n",
        "---\n",
        "\n"
      ],
      "metadata": {
        "id": "ypCt4pwxIpkQ"
      }
    },
    {
      "cell_type": "code",
      "source": [
        "pip install spacy"
      ],
      "metadata": {
        "id": "3Un5Gg2ddYle"
      },
      "execution_count": null,
      "outputs": []
    },
    {
      "cell_type": "code",
      "source": [
        "python -m spacy download pt_core_news_sm"
      ],
      "metadata": {
        "id": "eTCoUlPydX3P"
      },
      "execution_count": null,
      "outputs": []
    },
    {
      "cell_type": "code",
      "source": [
        "\n",
        "import spacy\n",
        "from collections import Counter\n",
        "import matplotlib.pyplot as plt\n",
        "\n",
        "# Carregar o modelo spaCy para português\n",
        "nlp = spacy.load('pt_core_news_sm')\n",
        "\n",
        "\n",
        "# Função para processar e contar a frequência de palavras\n",
        "def contar_frequencia(texto):\n",
        "    # Processa o texto usando spaCy\n",
        "    doc = nlp(texto)\n",
        "    # Cria uma lista de palavras, removendo stopwords e pontuações\n",
        "    palavras = [token.lemma_.lower() for token in doc if token.is_alpha and not token.is_stop]\n",
        "    return palavras\n",
        "\n",
        "# Aplicar a função para contar a frequência em todas as letras\n",
        "musicas_filtradas['palavras'] = musicas_filtradas['letra'].apply(contar_frequencia)\n",
        "\n",
        "# Concatenar todas as listas de palavras em uma única lista\n",
        "todas_as_palavras = [palavra for sublist in musicas_filtradas['palavras'] for palavra in sublist]\n",
        "\n",
        "# Contar a frequência das palavras\n",
        "frequencia_palavras = Counter(todas_as_palavras)\n",
        "\n",
        "# Exibir as 10 palavras mais comuns\n",
        "palavras_comuns = frequencia_palavras.most_common(10)\n",
        "print(\"10 Palavras Mais Comuns:\")\n",
        "for palavra, contagem in palavras_comuns:\n",
        "    print(f\"{palavra}: {contagem}\")\n",
        "\n",
        "# Visualização das palavras mais comuns\n",
        "labels, values = zip(*palavras_comuns)\n",
        "plt.figure(figsize=(10, 5))\n",
        "plt.bar(labels, values)\n",
        "plt.title('10 Palavras Mais Comuns nas Músicas de Tim Maia')\n",
        "plt.xlabel('Palavras')\n",
        "plt.ylabel('Frequência')\n",
        "plt.xticks(rotation=45)\n",
        "plt.show()\n"
      ],
      "metadata": {
        "id": "TxWTM_QONzin",
        "colab": {
          "base_uri": "https://localhost:8080/",
          "height": 106
        },
        "outputId": "064c8e4c-20e8-4941-f3ac-82fcc90e97db"
      },
      "execution_count": null,
      "outputs": [
        {
          "output_type": "error",
          "ename": "SyntaxError",
          "evalue": "invalid syntax (<ipython-input-65-605c13190dd9>, line 1)",
          "traceback": [
            "\u001b[0;36m  File \u001b[0;32m\"<ipython-input-65-605c13190dd9>\"\u001b[0;36m, line \u001b[0;32m1\u001b[0m\n\u001b[0;31m    pip install spacy\u001b[0m\n\u001b[0m        ^\u001b[0m\n\u001b[0;31mSyntaxError\u001b[0m\u001b[0;31m:\u001b[0m invalid syntax\n"
          ]
        }
      ]
    }
  ]
}